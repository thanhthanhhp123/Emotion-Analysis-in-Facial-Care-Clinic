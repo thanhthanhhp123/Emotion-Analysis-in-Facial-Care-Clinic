{
 "cells": [
  {
   "cell_type": "code",
   "execution_count": 1,
   "metadata": {},
   "outputs": [],
   "source": [
    "import pandas as pd "
   ]
  },
  {
   "cell_type": "code",
   "execution_count": 3,
   "metadata": {},
   "outputs": [],
   "source": [
    "danang = pd.read_csv('spa_reviews_Đà Nẵng.csv')\n",
    "hanoi = pd.read_csv('spa_reviews_Hà Nội.csv')\n",
    "hcm = pd.read_csv('spa_reviews_Thành phố Hồ Chí Minh.csv')\n",
    "haiphong = pd.read_csv('spa_reviews_Hải Phòng.csv')"
   ]
  },
  {
   "cell_type": "code",
   "execution_count": 7,
   "metadata": {},
   "outputs": [
    {
     "name": "stdout",
     "output_type": "stream",
     "text": [
      "(21854, 2)\n"
     ]
    }
   ],
   "source": [
    "#Merge all data\n",
    "df = pd.concat([danang, hanoi, hcm, haiphong], axis=0)\n",
    "df = df.drop_duplicates(subset='text', keep='first')\n",
    "df.to_csv('spa_reviews.csv', index=False)\n",
    "print(df.shape)"
   ]
  }
 ],
 "metadata": {
  "kernelspec": {
   "display_name": "Python 3",
   "language": "python",
   "name": "python3"
  },
  "language_info": {
   "codemirror_mode": {
    "name": "ipython",
    "version": 3
   },
   "file_extension": ".py",
   "mimetype": "text/x-python",
   "name": "python",
   "nbconvert_exporter": "python",
   "pygments_lexer": "ipython3",
   "version": "3.10.16"
  }
 },
 "nbformat": 4,
 "nbformat_minor": 2
}
